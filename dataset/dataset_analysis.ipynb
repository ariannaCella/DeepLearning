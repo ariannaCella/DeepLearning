{
 "cells": [
  {
   "cell_type": "markdown",
   "metadata": {
    "id": "XsgPCF4GOqZB"
   },
   "source": [
    "# CARICAMENTO DEL DATASET STANDFORD CARS"
   ]
  },
  {
   "cell_type": "code",
   "execution_count": null,
   "metadata": {
    "executionInfo": {
     "elapsed": 23750,
     "status": "ok",
     "timestamp": 1744572459124,
     "user": {
      "displayName": "progetti",
      "userId": "02762954243228224907"
     },
     "user_tz": -120
    },
    "id": "28j1wAZJnqMn"
   },
   "outputs": [],
   "source": [
    "import torch\n",
    "import torchvision\n",
    "import torchvision.transforms as transforms\n",
    "import argparse\n",
    "from torch.utils.tensorboard import SummaryWriter\n",
    "import numpy as np\n",
    "from sklearn.model_selection import train_test_split\n",
    "from collections import Counter\n",
    "\n",
    "dataset_path=\"dataset\\stanford_cars\" \n",
    "\n",
    "data_transforms = {\n",
    "        'train': transforms.Compose([\n",
    "            transforms.Resize((224, 224)),\n",
    "            transforms.RandomHorizontalFlip(),\n",
    "            torchvision.transforms.RandomRotation(10),\n",
    "            transforms.ColorJitter(brightness=0.2, contrast=0.2, saturation=0.2, hue=0.1),  # Cambia colori\n",
    "            transforms.RandomAffine(degrees=15, translate=(0.1, 0.1), shear=10),  # Traslazione e shear\n",
    "            transforms.RandomPerspective(distortion_scale=0.2, p=0.5),  # Deformazione prospettica\n",
    "            transforms.GaussianBlur(kernel_size=3, sigma=(0.1, 2.0)),  # Sfocatura\n",
    "            transforms.ToTensor(),\n",
    "            transforms.Normalize([0.485, 0.456, 0.406], [0.229, 0.224, 0.225])\n",
    "        ]),\n",
    "        'test': transforms.Compose([\n",
    "            transforms.Resize((224,224)),\n",
    "            transforms.ToTensor(),\n",
    "            transforms.Normalize([0.485, 0.456, 0.406], [0.229, 0.224, 0.225])\n",
    "        ]),\n",
    "    }\n"
   ]
  },
  {
   "cell_type": "code",
   "execution_count": null,
   "metadata": {
    "colab": {
     "base_uri": "https://localhost:8080/"
    },
    "executionInfo": {
     "elapsed": 23603,
     "status": "ok",
     "timestamp": 1744056223827,
     "user": {
      "displayName": "progetti",
      "userId": "02762954243228224907"
     },
     "user_tz": -120
    },
    "id": "iTuvZJZCOp3Y",
    "outputId": "a1c47bae-0621-44e3-a134-1db9b37ba4eb"
   },
   "outputs": [
    {
     "name": "stdout",
     "output_type": "stream",
     "text": [
      "Train set size: 6515, Validation set size: 1629, Test set size: 8041\n"
     ]
    }
   ],
   "source": [
    "############# suddivisione di default 50% 50% #########\n",
    "\n",
    "# load train ds\n",
    "full_trainset = torchvision.datasets.StanfordCars(root=dataset_path, split='train',\n",
    "                                              download=False, transform=data_transforms['train'])\n",
    "\n",
    "# load test set\n",
    "testset = torchvision.datasets.StanfordCars(root=dataset_path, split='test',\n",
    "                                            download=False, transform=data_transforms['test'])\n",
    "\n",
    "class_names=full_trainset.classes\n",
    "#labels = np.array([label for _, label in full_trainset])\n",
    "labels = np.array([label for _, label in full_trainset._samples])\n",
    "\n",
    "labels_test = np.array([label for _, label in testset._samples])\n",
    "\n",
    "# test set in 80% test e 20% validation mantenendo le proporzioni delle classi\n",
    "train_indices, val_indices = train_test_split(np.arange(len(labels)), test_size=0.2, stratify=labels, random_state=42)\n",
    "\n",
    "# i nuovi dataset\n",
    "trainset = torch.utils.data.Subset(full_trainset, train_indices)\n",
    "valset = torch.utils.data.Subset(full_trainset, val_indices)\n",
    "\n",
    "\n",
    "# per gestire caricamento in batch\n",
    "trainloader = torch.utils.data.DataLoader(trainset, batch_size=32, shuffle=True, num_workers=1)\n",
    "validationloader = torch.utils.data.DataLoader(valset, batch_size=32, shuffle=False, num_workers=1)\n",
    "testloader = torch.utils.data.DataLoader(testset, batch_size=32, shuffle=False, num_workers=1)\n",
    "\n",
    "print(f\"Train set size: {len(trainset)}, Validation set size: {len(valset)}, Test set size: {len(testset)}\")\n"
   ]
  },
  {
   "cell_type": "code",
   "execution_count": null,
   "metadata": {
    "colab": {
     "base_uri": "https://localhost:8080/"
    },
    "executionInfo": {
     "elapsed": 559,
     "status": "ok",
     "timestamp": 1744056459206,
     "user": {
      "displayName": "progetti",
      "userId": "02762954243228224907"
     },
     "user_tz": -120
    },
    "id": "v-kNlhFanvzS",
    "outputId": "fa57921a-4263-48ec-e809-375073fedf6b"
   },
   "outputs": [
    {
     "name": "stdout",
     "output_type": "stream",
     "text": [
      "Train set size: 9063, Validation set size: 2266, Test set size: 4856\n"
     ]
    }
   ],
   "source": [
    "###### suddivisione 70 - 30 ############\n",
    "\n",
    "\n",
    "# Dataset grezzo senza trasformazioni\n",
    "train = torchvision.datasets.StanfordCars(root=dataset_path, split='train', download=False, transform=None)\n",
    "test = torchvision.datasets.StanfordCars(root=dataset_path, split='test', download=False, transform=None)\n",
    "\n",
    "# Lista (path, label)\n",
    "all_samples = train._samples + test._samples\n",
    "all_paths = [path for path, _ in all_samples]\n",
    "labels = np.array([label for _, label in all_samples])\n",
    "\n",
    "# Dataset custom\n",
    "class CustomStanfordCars(Dataset):\n",
    "    def __init__(self, img_paths, labels, transform=None):\n",
    "        self.img_paths = img_paths\n",
    "        self.labels = labels\n",
    "        self.transform = transform\n",
    "\n",
    "    def __len__(self):\n",
    "        return len(self.labels)\n",
    "\n",
    "    def __getitem__(self, idx):\n",
    "        path = self.img_paths[idx]\n",
    "        label = self.labels[idx]\n",
    "        image = Image.open(path).convert(\"RGB\")\n",
    "        if self.transform:\n",
    "            image = self.transform(image)\n",
    "        return image, label\n",
    "\n",
    "# Indici per split\n",
    "total_size = len(labels)\n",
    "indices = np.arange(total_size)\n",
    "\n",
    "# 70% train+val, 30% test\n",
    "trainval_indices, test_indices = train_test_split(indices, test_size=0.3, stratify=labels, random_state=42)\n",
    "\n",
    "# 80% train, 20% val (sul 70%)\n",
    "train_indices, val_indices = train_test_split(\n",
    "    trainval_indices, test_size=0.2, stratify=labels[trainval_indices], random_state=42\n",
    ")\n",
    "\n",
    "# Dataset completi (con trasformazioni diverse per split)\n",
    "train_full = CustomStanfordCars(all_paths, labels, transform=data_transforms['train'])\n",
    "val_full   = CustomStanfordCars(all_paths, labels, transform=data_transforms['test'])\n",
    "test_full  = CustomStanfordCars(all_paths, labels, transform=data_transforms['test'])\n",
    "\n",
    "# Subset con indici corretti\n",
    "trainset = Subset(train_full, train_indices)\n",
    "valset   = Subset(val_full, val_indices)\n",
    "testset  = Subset(test_full, test_indices)\n",
    "\n",
    "# DataLoader\n",
    "trainloader = DataLoader(trainset, batch_size=32, shuffle=True, num_workers=1)\n",
    "validationloader = DataLoader(valset, batch_size=32, shuffle=False, num_workers=1)\n",
    "testloader = DataLoader(testset, batch_size=32, shuffle=False, num_workers=1)\n",
    "\n",
    "# Output\n",
    "print(f\"Train set size: {len(trainset)}, Validation set size: {len(valset)}, Test set size: {len(testset)}\")\n"
   ]
  },
  {
   "cell_type": "code",
   "execution_count": 5,
   "metadata": {
    "colab": {
     "base_uri": "https://localhost:8080/"
    },
    "executionInfo": {
     "elapsed": 409,
     "status": "ok",
     "timestamp": 1744572579588,
     "user": {
      "displayName": "progetti",
      "userId": "02762954243228224907"
     },
     "user_tz": -120
    },
    "id": "Nfu8XOdtDYak",
    "outputId": "af77e3da-129d-498f-86f3-59cd73002a17"
   },
   "outputs": [
    {
     "name": "stdout",
     "output_type": "stream",
     "text": [
      "Train set size: 8144, Validation set size: 2413, Test set size: 5628\n"
     ]
    }
   ],
   "source": [
    "############# 65 35 ###############\n",
    "\n",
    "# load train ds\n",
    "trainset = torchvision.datasets.StanfordCars(root=dataset_path, split='train',\n",
    "                                              download=False, transform=data_transforms['train'])\n",
    "class_names=trainset.classes\n",
    "\n",
    "# load test set\n",
    "full_test = torchvision.datasets.StanfordCars(root=dataset_path, split='test',\n",
    "                                            download=False, transform=data_transforms['test'])\n",
    "\n",
    "labels = np.array([label for _, label in full_test._samples])\n",
    "labels_training = np.array([label for _, label in trainset._samples])\n",
    "\n",
    "# test set in 70% test e 30% validation mantenendo le proporzioni delle classi\n",
    "test_indices, val_indices = train_test_split(np.arange(len(labels)), test_size=0.3, stratify=labels, random_state=42)\n",
    "\n",
    "\n",
    "testset = torch.utils.data.Subset(full_test, test_indices)\n",
    "valset = torch.utils.data.Subset(full_test, val_indices)\n",
    "\n",
    "\n",
    "\n",
    "print(f\"Train set size: {len(trainset)}, Validation set size: {len(valset)}, Test set size: {len(testset)}\")\n",
    "\n",
    "#0.3  trainset (t+v)=66% e abbiamo 77% train e 23% per val (sul training)"
   ]
  },
  {
   "cell_type": "markdown",
   "metadata": {
    "id": "B5YrXuqIzHSb"
   },
   "source": [
    "# **ANALISI DEL DATASET**"
   ]
  },
  {
   "cell_type": "markdown",
   "metadata": {
    "id": "RKKxAZyvsg8O"
   },
   "source": [
    "## Conteggio della presenza di ciascuna classe per valutare se il dataset è bilanciato e se ci sono classe che prevalgono o che scarseggiano."
   ]
  },
  {
   "cell_type": "code",
   "execution_count": 6,
   "metadata": {
    "colab": {
     "base_uri": "https://localhost:8080/",
     "height": 1000
    },
    "executionInfo": {
     "elapsed": 1273,
     "status": "ok",
     "timestamp": 1744572583538,
     "user": {
      "displayName": "progetti",
      "userId": "02762954243228224907"
     },
     "user_tz": -120
    },
    "id": "kihcRQ77GIEL",
    "outputId": "383e85cd-a249-46b3-a0ab-7af17a2d1189"
   },
   "outputs": [
    {
     "data": {
      "image/png": "[encoded data removed]",
      "text/plain": [
       "<Figure size 640x480 with 1 Axes>"
      ]
     },
     "metadata": {},
     "output_type": "display_data"
    },
    {
     "name": "stdout",
     "output_type": "stream",
     "text": [
      "\n",
      "Classi più frequenti nel training set:\n",
      "GMC Savana Van 2012: 68 images\n",
      "Chrysler 300 SRT-8 2010: 49 images\n",
      "Mitsubishi Lancer Sedan 2012: 48 images\n",
      "Mercedes-Benz 300-Class Convertible 1993: 48 images\n",
      "Jaguar XK XKR 2012: 47 images\n",
      "\n",
      "Classi meno nel training set frequenti:\n",
      "Rolls-Royce Phantom Drophead Coupe Convertible 2012: 31 images\n",
      "Chevrolet Express Cargo Van 2007: 30 images\n",
      "Maybach Landaulet Convertible 2012: 29 images\n",
      "FIAT 500 Abarth 2012: 28 images\n",
      "Hyundai Accent Sedan 2012: 24 images\n"
     ]
    },
    {
     "data": {
      "image/png": "[encoded data removed]",
      "text/plain": [
       "<Figure size 640x480 with 1 Axes>"
      ]
     },
     "metadata": {},
     "output_type": "display_data"
    },
    {
     "name": "stdout",
     "output_type": "stream",
     "text": [
      "\n",
      "Classi più frequenti nel validation set:\n",
      "GMC Savana Van 2012: 20 images\n",
      "Nissan 240SX Coupe 1998: 14 images\n",
      "Mercedes-Benz C-Class Sedan 2012: 14 images\n",
      "Chrysler 300 SRT-8 2010: 14 images\n",
      "Ford F-150 Regular Cab 2007: 14 images\n",
      "\n",
      "Classi meno nel training validation frequenti:\n",
      "Rolls-Royce Phantom Drophead Coupe Convertible 2012: 9 images\n",
      "Maybach Landaulet Convertible 2012: 9 images\n",
      "Chevrolet Express Cargo Van 2007: 9 images\n",
      "FIAT 500 Abarth 2012: 8 images\n",
      "Hyundai Accent Sedan 2012: 7 images\n"
     ]
    },
    {
     "data": {
      "image/png": "[encoded data removed]",
      "text/plain": [
       "<Figure size 640x480 with 1 Axes>"
      ]
     },
     "metadata": {},
     "output_type": "display_data"
    },
    {
     "name": "stdout",
     "output_type": "stream",
     "text": [
      "\n",
      "Classi più frequenti nel test set:\n",
      "GMC Savana Van 2012: 48 images\n",
      "Mercedes-Benz 300-Class Convertible 1993: 34 images\n",
      "Chrysler 300 SRT-8 2010: 34 images\n",
      "Mitsubishi Lancer Sedan 2012: 33 images\n",
      "Ford Focus Sedan 2007: 32 images\n",
      "\n",
      "Classi meno frequenti nel test set:\n",
      "Rolls-Royce Phantom Drophead Coupe Convertible 2012: 21 images\n",
      "Maybach Landaulet Convertible 2012: 20 images\n",
      "Chevrolet Express Cargo Van 2007: 20 images\n",
      "FIAT 500 Abarth 2012: 19 images\n",
      "Hyundai Accent Sedan 2012: 17 images\n"
     ]
    }
   ],
   "source": [
    "import matplotlib.pyplot as plt\n",
    "from collections import Counter\n",
    "\n",
    "labels_test = labels[test_indices]\n",
    "labels_val = labels[val_indices]\n",
    "\n",
    "######## TRAINING ##############\n",
    "\n",
    "# Conta quante immagini per ogni classe\n",
    "class_counts = Counter(labels_training)\n",
    "plt.bar(class_counts.keys(), class_counts.values())\n",
    "plt.xticks(rotation=90)\n",
    "plt.title(\"Class distribution in the training set\")\n",
    "plt.xlabel(\"Class\")\n",
    "plt.ylabel(\"Number of images\")\n",
    "plt.show()\n",
    "\n",
    "# Ordina per frequenza\n",
    "sorted_classes = sorted(class_counts.items(), key=lambda x: x[1], reverse=True)\n",
    "\n",
    "# Visualizza le classi più frequenti e meno frequenti\n",
    "num_top_classes = 5  # Quante classi più frequenti e meno frequenti vuoi vedere?\n",
    "\n",
    "most_common = sorted_classes[:num_top_classes]\n",
    "least_common = sorted_classes[-num_top_classes:]\n",
    "\n",
    "print(\"\\nClassi più frequenti nel training set:\")\n",
    "for idx, count in most_common:\n",
    "    print(f\"{class_names[idx]}: {count} images\")\n",
    "\n",
    "print(\"\\nClassi meno nel training set frequenti:\")\n",
    "for idx, count in least_common:\n",
    "    print(f\"{class_names[idx]}: {count} images\")\n",
    "\n",
    "\n",
    "######## VALIDATION ##############\n",
    "\n",
    "# Conta quante immagini per ogni classe\n",
    "class_counts = Counter(labels_val)\n",
    "plt.bar(class_counts.keys(), class_counts.values())\n",
    "plt.xticks(rotation=90)\n",
    "plt.title(\"Class distribution in the validation set\")\n",
    "plt.xlabel(\"Class\")\n",
    "plt.ylabel(\"Number of images\")\n",
    "plt.show()\n",
    "\n",
    "# Ordina per frequenza\n",
    "sorted_classes = sorted(class_counts.items(), key=lambda x: x[1], reverse=True)\n",
    "\n",
    "# Visualizza le classi più frequenti e meno frequenti\n",
    "num_top_classes = 5  # Quante classi più frequenti e meno frequenti vuoi vedere?\n",
    "\n",
    "most_common = sorted_classes[:num_top_classes]\n",
    "least_common = sorted_classes[-num_top_classes:]\n",
    "\n",
    "print(\"\\nClassi più frequenti nel validation set:\")\n",
    "for idx, count in most_common:\n",
    "    print(f\"{class_names[idx]}: {count} images\")\n",
    "\n",
    "print(\"\\nClassi meno nel training validation frequenti:\")\n",
    "for idx, count in least_common:\n",
    "    print(f\"{class_names[idx]}: {count} images\")\n",
    "\n",
    "######## TEST ##############\n",
    "\n",
    "# Conta quante immagini per ogni classe\n",
    "class_counts = Counter(labels_test)\n",
    "plt.bar(class_counts.keys(), class_counts.values())\n",
    "plt.xticks(rotation=90)\n",
    "plt.title(\"Class distribution in the test set\")\n",
    "plt.xlabel(\"Class\")\n",
    "plt.ylabel(\"Number of images\")\n",
    "plt.show()\n",
    "\n",
    "# Ordina per frequenza\n",
    "sorted_classes = sorted(class_counts.items(), key=lambda x: x[1], reverse=True)\n",
    "\n",
    "# Visualizza le classi più frequenti e meno frequenti\n",
    "num_top_classes = 5  # Quante classi più frequenti e meno frequenti vuoi vedere?\n",
    "\n",
    "most_common = sorted_classes[:num_top_classes]\n",
    "least_common = sorted_classes[-num_top_classes:]\n",
    "\n",
    "print(\"\\nClassi più frequenti nel test set:\")\n",
    "for idx, count in most_common:\n",
    "    print(f\"{class_names[idx]}: {count} images\")\n",
    "\n",
    "print(\"\\nClassi meno frequenti nel test set:\")\n",
    "for idx, count in least_common:\n",
    "    print(f\"{class_names[idx]}: {count} images\")\n",
    "\n"
   ]
  },
  {
   "cell_type": "markdown",
   "metadata": {
    "id": "sqshmh9hThEt"
   },
   "source": [
    "## Visualizzazione di ogni classe presente nel dataset"
   ]
  },
  {
   "cell_type": "markdown",
   "metadata": {
    "id": "lqiVo-vSyXoN"
   },
   "source": [
    "### Confronto per ogni classe della versione originale e della versione augmented."
   ]
  },
  {
   "cell_type": "code",
   "execution_count": 7,
   "metadata": {
    "executionInfo": {
     "elapsed": 550,
     "status": "ok",
     "timestamp": 1744572868810,
     "user": {
      "displayName": "progetti",
      "userId": "02762954243228224907"
     },
     "user_tz": -120
    },
    "id": "QOaUJI1IsBOd"
   },
   "outputs": [],
   "source": [
    "import torch\n",
    "import torchvision\n",
    "import torchvision.transforms as transforms\n",
    "import matplotlib.pyplot as plt\n",
    "\n",
    "\n",
    "# Carica il dataset senza applicare augmentation\n",
    "full_trainset_no_augmentation = torchvision.datasets.StanfordCars(root=dataset_path, split='train', download=False, transform=transforms.Compose([\n",
    "    transforms.Resize((224, 224)),\n",
    "    transforms.ToTensor(),\n",
    "    transforms.Normalize([0.485, 0.456, 0.406], [0.229, 0.224, 0.225])\n",
    "]))\n",
    "\n",
    "\n",
    "# Carica il dataset con le trasformazioni di augmentation\n",
    "full_trainset_with_augmentation = torchvision.datasets.StanfordCars(root=dataset_path, split='train', download=False, transform=data_transforms['train'])\n",
    "\n",
    "\n",
    "# Funzione per denormalizzare le immagini (usata per la visualizzazione)\n",
    "def denorm(x):\n",
    "    out = x * 0.229 + 0.485  # Denormalizza con i valori di mean e std di ImageNet\n",
    "    return out.clamp(0, 1)\n",
    "\n",
    "\n",
    "to_pil = transforms.ToPILImage()\n",
    "\n"
   ]
  },
  {
   "cell_type": "code",
   "execution_count": null,
   "metadata": {
    "id": "bx6AwEGt4AVc"
   },
   "outputs": [],
   "source": [
    "############## 70 30 #################\n",
    "import torch\n",
    "import torchvision\n",
    "import torchvision.transforms as transforms\n",
    "import matplotlib.pyplot as plt\n",
    "\n",
    "\n",
    "# Carica il dataset senza applicare augmentation\n",
    "full_trainset_no_augmentation = Subset(CustomStanfordCars(all_paths, labels, transform=data_transforms['test']), train_indices)\n",
    "\n",
    "# Carica il dataset con le trasformazioni di augmentation\n",
    "full_trainset_with_augmentation = Subset(CustomStanfordCars(all_paths, labels, transform=data_transforms['train']), train_indices)\n",
    "\n",
    "\n",
    "# Funzione per denormalizzare le immagini (usata per la visualizzazione)\n",
    "def denorm(x):\n",
    "    out = x * 0.229 + 0.485  # Denormalizza con i valori di mean e std di ImageNet\n",
    "    return out.clamp(0, 1)\n",
    "\n",
    "\n",
    "to_pil = transforms.ToPILImage()\n",
    "\n"
   ]
  },
  {
   "cell_type": "code",
   "execution_count": null,
   "metadata": {
    "colab": {
     "base_uri": "https://localhost:8080/",
     "height": 1000,
     "output_embedded_package_id": "1XkK2WKQ6XoofFKGPpWsVK9IXTilnP3aT"
    },
    "executionInfo": {
     "elapsed": 335979,
     "status": "ok",
     "timestamp": 1744057148409,
     "user": {
      "displayName": "progetti",
      "userId": "02762954243228224907"
     },
     "user_tz": -120
    },
    "id": "Mcujk5sav6PY",
    "outputId": "c3a25663-6fe5-47f8-8be0-5a0cd5a6a50b"
   },
   "outputs": [
    {
     "data": {
      "text/plain": [
       "Output hidden; open in https://colab.research.google.com to view."
      ]
     },
     "metadata": {},
     "output_type": "display_data"
    }
   ],
   "source": [
    "import matplotlib.pyplot as plt\n",
    "import numpy as np\n",
    "import torchvision\n",
    "\n",
    "# Dizionari per raccogliere un'immagine per classe\n",
    "unique_classes_no_aug = {}\n",
    "unique_classes_with_aug = {}\n",
    "\n",
    "# Scorriamo il dataset originale per raccogliere un esempio per classe\n",
    "for img, label in full_trainset_no_augmentation:\n",
    "    if label not in unique_classes_no_aug:\n",
    "        unique_classes_no_aug[label] = img\n",
    "    if len(unique_classes_no_aug) == len(class_names):  # Fermiamo quando abbiamo tutte le classi\n",
    "        break\n",
    "\n",
    "# Scorriamo il dataset con augmentation per raccogliere un esempio per classe\n",
    "for img, label in full_trainset_with_augmentation:\n",
    "    if label not in unique_classes_with_aug:\n",
    "        unique_classes_with_aug[label] = img\n",
    "    if len(unique_classes_with_aug) == len(class_names):  # Fermiamo quando abbiamo tutte le classi\n",
    "        break\n",
    "\n",
    "# Ordiniamo per classe\n",
    "sorted_classes = sorted(unique_classes_no_aug.items())\n",
    "\n",
    "# Creiamo il plot con due colonne: originale a sinistra, aumentata a destra\n",
    "fig, axes = plt.subplots(nrows=len(sorted_classes), ncols=2, figsize=(8, len(sorted_classes) * 2))\n",
    "\n",
    "for i, (label, img_no_aug) in enumerate(sorted_classes):\n",
    "    img_aug = unique_classes_with_aug[label]  # Corrispondente immagine aumentata\n",
    "\n",
    "    # Immagine originale\n",
    "    axes[i, 0].imshow(to_pil(denorm(img_no_aug)))\n",
    "    axes[i, 0].set_title(f\"Originale - {class_names[label]}\", fontsize=7)\n",
    "    axes[i, 0].axis(\"off\")\n",
    "\n",
    "    # Immagine aumentata\n",
    "    axes[i, 1].imshow(to_pil(denorm(img_aug)))\n",
    "    axes[i, 1].set_title(f\"Augmented - {class_names[label]}\", fontsize=7)\n",
    "    axes[i, 1].axis(\"off\")\n",
    "\n",
    "plt.tight_layout()  # Ottimizza lo spazio\n",
    "plt.show()"
   ]
  },
  {
   "cell_type": "markdown",
   "metadata": {
    "id": "PQqv4PPNytbM"
   },
   "source": [
    "###Visualizzazione di una foto per ciascuna classe"
   ]
  },
  {
   "cell_type": "code",
   "execution_count": null,
   "metadata": {
    "colab": {
     "base_uri": "https://localhost:8080/",
     "height": 1000,
     "output_embedded_package_id": "1N-VG4tSzPyari__L_wStkFVyev6McjaA"
    },
    "executionInfo": {
     "elapsed": 32356,
     "status": "ok",
     "timestamp": 1744057299285,
     "user": {
      "displayName": "progetti",
      "userId": "02762954243228224907"
     },
     "user_tz": -120
    },
    "id": "6KO39-XlR8Zc",
    "outputId": "55525fd6-2cce-4903-b655-12ffa7a51ff7"
   },
   "outputs": [
    {
     "data": {
      "text/plain": [
       "Output hidden; open in https://colab.research.google.com to view."
      ]
     },
     "metadata": {},
     "output_type": "display_data"
    }
   ],
   "source": [
    "import matplotlib.pyplot as plt\n",
    "import numpy as np\n",
    "import torchvision\n",
    "\n",
    "\n",
    "# Ordiniamo per classe\n",
    "sorted_classes = sorted(unique_classes_no_aug.items())\n",
    "\n",
    "# Mostriamo le immagini con le etichette\n",
    "fig, axes = plt.subplots(nrows=14, ncols=14, figsize=(30, 30))  # Grid 14x14 (196 classi)\n",
    "axes = axes.flatten()  # Flatten per iterare facilmente\n",
    "\n",
    "for i, (label, img_no_aug) in enumerate(sorted_classes):\n",
    "    # Immagine originale\n",
    "    axes[i].imshow(to_pil(denorm(img_no_aug)))\n",
    "    axes[i].set_title(f\"{class_names[label]}\", fontsize=10)\n",
    "    axes[i].axis(\"off\")  # Rimuoviamo gli assi per pulizia\n",
    "\n",
    "plt.tight_layout()  # Ottimizza la spaziatura\n",
    "plt.show()\n"
   ]
  }
 ],
 "metadata": {
  "colab": {
   "authorship_tag": "ABX9TyNMQbo7hwXVXDAlbFxgStQD",
   "provenance": []
  },
  "kernelspec": {
   "display_name": "Python 3",
   "name": "python3"
  },
  "language_info": {
   "name": "python"
  }
 },
 "nbformat": 4,
 "nbformat_minor": 0
}
